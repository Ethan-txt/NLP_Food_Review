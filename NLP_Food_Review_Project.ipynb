{
 "cells": [
  {
   "cell_type": "markdown",
   "metadata": {},
   "source": [
    "Amazon Fine Food Reviews\n",
    "3/18/21\n"
   ]
  },
  {
   "cell_type": "markdown",
   "metadata": {},
   "source": [
    "**To generate results for both coffee and tea, the code was ran twice each time subsetting the data on the category of interest**"
   ]
  },
  {
   "cell_type": "code",
   "execution_count": 2,
   "metadata": {},
   "outputs": [],
   "source": [
    "#Importing packages\n",
    "import os\n",
    "import nltk\n",
    "import numpy as np\n",
    "import pandas as pd\n",
    "import matplotlib.pyplot as plt\n",
    "from collections import Counter"
   ]
  },
  {
   "cell_type": "code",
   "execution_count": 4,
   "metadata": {
    "scrolled": true
   },
   "outputs": [
    {
     "data": {
      "text/html": [
       "<div>\n",
       "<style scoped>\n",
       "    .dataframe tbody tr th:only-of-type {\n",
       "        vertical-align: middle;\n",
       "    }\n",
       "\n",
       "    .dataframe tbody tr th {\n",
       "        vertical-align: top;\n",
       "    }\n",
       "\n",
       "    .dataframe thead th {\n",
       "        text-align: right;\n",
       "    }\n",
       "</style>\n",
       "<table border=\"1\" class=\"dataframe\">\n",
       "  <thead>\n",
       "    <tr style=\"text-align: right;\">\n",
       "      <th></th>\n",
       "      <th>Id</th>\n",
       "      <th>ProductId</th>\n",
       "      <th>UserId</th>\n",
       "      <th>ProfileName</th>\n",
       "      <th>HelpfulnessNumerator</th>\n",
       "      <th>HelpfulnessDenominator</th>\n",
       "      <th>Score</th>\n",
       "      <th>Time</th>\n",
       "      <th>Summary</th>\n",
       "      <th>Text</th>\n",
       "    </tr>\n",
       "  </thead>\n",
       "  <tbody>\n",
       "    <tr>\n",
       "      <th>0</th>\n",
       "      <td>1</td>\n",
       "      <td>B001E4KFG0</td>\n",
       "      <td>A3SGXH7AUHU8GW</td>\n",
       "      <td>delmartian</td>\n",
       "      <td>1</td>\n",
       "      <td>1</td>\n",
       "      <td>5</td>\n",
       "      <td>1303862400</td>\n",
       "      <td>Good Quality Dog Food</td>\n",
       "      <td>I have bought several of the Vitality canned d...</td>\n",
       "    </tr>\n",
       "    <tr>\n",
       "      <th>1</th>\n",
       "      <td>2</td>\n",
       "      <td>B00813GRG4</td>\n",
       "      <td>A1D87F6ZCVE5NK</td>\n",
       "      <td>dll pa</td>\n",
       "      <td>0</td>\n",
       "      <td>0</td>\n",
       "      <td>1</td>\n",
       "      <td>1346976000</td>\n",
       "      <td>Not as Advertised</td>\n",
       "      <td>Product arrived labeled as Jumbo Salted Peanut...</td>\n",
       "    </tr>\n",
       "    <tr>\n",
       "      <th>2</th>\n",
       "      <td>3</td>\n",
       "      <td>B000LQOCH0</td>\n",
       "      <td>ABXLMWJIXXAIN</td>\n",
       "      <td>Natalia Corres \"Natalia Corres\"</td>\n",
       "      <td>1</td>\n",
       "      <td>1</td>\n",
       "      <td>4</td>\n",
       "      <td>1219017600</td>\n",
       "      <td>\"Delight\" says it all</td>\n",
       "      <td>This is a confection that has been around a fe...</td>\n",
       "    </tr>\n",
       "    <tr>\n",
       "      <th>3</th>\n",
       "      <td>4</td>\n",
       "      <td>B000UA0QIQ</td>\n",
       "      <td>A395BORC6FGVXV</td>\n",
       "      <td>Karl</td>\n",
       "      <td>3</td>\n",
       "      <td>3</td>\n",
       "      <td>2</td>\n",
       "      <td>1307923200</td>\n",
       "      <td>Cough Medicine</td>\n",
       "      <td>If you are looking for the secret ingredient i...</td>\n",
       "    </tr>\n",
       "    <tr>\n",
       "      <th>4</th>\n",
       "      <td>5</td>\n",
       "      <td>B006K2ZZ7K</td>\n",
       "      <td>A1UQRSCLF8GW1T</td>\n",
       "      <td>Michael D. Bigham \"M. Wassir\"</td>\n",
       "      <td>0</td>\n",
       "      <td>0</td>\n",
       "      <td>5</td>\n",
       "      <td>1350777600</td>\n",
       "      <td>Great taffy</td>\n",
       "      <td>Great taffy at a great price.  There was a wid...</td>\n",
       "    </tr>\n",
       "  </tbody>\n",
       "</table>\n",
       "</div>"
      ],
      "text/plain": [
       "   Id   ProductId          UserId                      ProfileName  \\\n",
       "0   1  B001E4KFG0  A3SGXH7AUHU8GW                       delmartian   \n",
       "1   2  B00813GRG4  A1D87F6ZCVE5NK                           dll pa   \n",
       "2   3  B000LQOCH0   ABXLMWJIXXAIN  Natalia Corres \"Natalia Corres\"   \n",
       "3   4  B000UA0QIQ  A395BORC6FGVXV                             Karl   \n",
       "4   5  B006K2ZZ7K  A1UQRSCLF8GW1T    Michael D. Bigham \"M. Wassir\"   \n",
       "\n",
       "   HelpfulnessNumerator  HelpfulnessDenominator  Score        Time  \\\n",
       "0                     1                       1      5  1303862400   \n",
       "1                     0                       0      1  1346976000   \n",
       "2                     1                       1      4  1219017600   \n",
       "3                     3                       3      2  1307923200   \n",
       "4                     0                       0      5  1350777600   \n",
       "\n",
       "                 Summary                                               Text  \n",
       "0  Good Quality Dog Food  I have bought several of the Vitality canned d...  \n",
       "1      Not as Advertised  Product arrived labeled as Jumbo Salted Peanut...  \n",
       "2  \"Delight\" says it all  This is a confection that has been around a fe...  \n",
       "3         Cough Medicine  If you are looking for the secret ingredient i...  \n",
       "4            Great taffy  Great taffy at a great price.  There was a wid...  "
      ]
     },
     "execution_count": 4,
     "metadata": {},
     "output_type": "execute_result"
    }
   ],
   "source": [
    "#Reading in the data\n",
    "data = pd.read_csv(r\"Reviews.csv\")\n",
    "data.head()"
   ]
  },
  {
   "cell_type": "code",
   "execution_count": 62,
   "metadata": {},
   "outputs": [],
   "source": [
    "#Adding year the review was written\n",
    "from datetime import datetime\n",
    "\n",
    "yearList = []\n",
    "for i in range(0,len(data)):\n",
    "    ts = data[\"Time\"][i]\n",
    "    yearList.append(datetime.utcfromtimestamp(ts).strftime('%Y'))\n",
    "\n",
    "data[\"Year\"] = yearList"
   ]
  },
  {
   "cell_type": "code",
   "execution_count": 64,
   "metadata": {},
   "outputs": [],
   "source": [
    "#Changing all the reviews to lowercase\n",
    "data[\"Text\"] = data[\"Text\"].str.lower()"
   ]
  },
  {
   "cell_type": "code",
   "execution_count": 65,
   "metadata": {},
   "outputs": [],
   "source": [
    "#Adding review length\n",
    "def addRevLen(data): \n",
    "    revLen = []\n",
    "    for i in range(0,len(data)):\n",
    "        revLen.append(len(data[\"Text\"][i].split()))   \n",
    "    return revLen\n",
    "data[\"ReviewLength\"] = addRevLen(data)"
   ]
  },
  {
   "cell_type": "code",
   "execution_count": 66,
   "metadata": {},
   "outputs": [
    {
     "name": "stdout",
     "output_type": "stream",
     "text": [
      "Number of Reviews with Duplicate: 72768\n",
      "Number of Reviews without Duplicate: 44639\n"
     ]
    }
   ],
   "source": [
    "#Subsetting the data\n",
    "def dataSubsetter(data, keyTerms, remove = False):\n",
    "    #Used to subset or remove reviews containing certain keywords\n",
    "    #data must be a pandas dataframe and keyTerms must be a list\n",
    "    searchfor = keyTerms\n",
    "    if remove == False:\n",
    "        output = data[data.Text.str.contains('|'.join(searchfor))]\n",
    "    else:\n",
    "        output = data[~data.Text.str.contains('|'.join(searchfor))]\n",
    "    return(output)\n",
    "\n",
    "\n",
    "keyTerms = [\"coffee\"]\n",
    "dataSubset = dataSubsetter(data, keyTerms)\n",
    "print(\"Number of Reviews with Duplicate: \" + str(len(dataSubset)))\n",
    "dataDupRemove = dataSubset.drop_duplicates(subset = ['Text'])\n",
    "print(\"Number of Reviews without Duplicate: \" + str(len(dataDupRemove)))"
   ]
  },
  {
   "cell_type": "code",
   "execution_count": 70,
   "metadata": {},
   "outputs": [
    {
     "name": "stdout",
     "output_type": "stream",
     "text": [
      "Earliest Review Year: 2002 Latest Review Year: 2012\n"
     ]
    }
   ],
   "source": [
    "#Looking at years where reviews are present\n",
    "def reviewBound(data):   \n",
    "    print(\"Earliest Review Year: \" + str(min(data[\"Year\"])) + \" Latest Review Year: \" + str(max(data[\"Year\"])))\n",
    "    \n",
    "reviewBound(dataDupRemove)"
   ]
  },
  {
   "cell_type": "code",
   "execution_count": 71,
   "metadata": {},
   "outputs": [],
   "source": [
    "#Separating the data by year\n",
    "def dfSplitter(data, startYear, endYear):\n",
    "    output = []\n",
    "    source = []\n",
    "    for year in range(startYear, endYear+1):\n",
    "        year = str(year)\n",
    "        source.append(year)\n",
    "        output.append(data[data[\"Year\"] == year])\n",
    "    return(output, source)\n",
    "\n",
    "allReviewList, reviewYear = dfSplitter(dataDupRemove, 2002, 2012)"
   ]
  },
  {
   "cell_type": "code",
   "execution_count": 72,
   "metadata": {},
   "outputs": [],
   "source": [
    "#dataDupRemove.head()"
   ]
  },
  {
   "cell_type": "code",
   "execution_count": 73,
   "metadata": {},
   "outputs": [
    {
     "data": {
      "image/png": "[encoded data removed]",
      "text/plain": [
       "<Figure size 432x288 with 1 Axes>"
      ]
     },
     "metadata": {
      "needs_background": "light"
     },
     "output_type": "display_data"
    }
   ],
   "source": [
    "def reviewOverTime(allReviewList, sources):\n",
    "    numberOfReviews = []\n",
    "    for review in allReviewList:\n",
    "        numberOfReviews.append(len(review))\n",
    "    plt.bar(sources, numberOfReviews)\n",
    "    plt.title(\"Number of Tea Reviews Per Year\")\n",
    "    plt.xlabel(\"Year\")\n",
    "    plt.ylabel(\"Number of Reviews\")\n",
    "    plt.show()\n",
    "    \n",
    "reviewOverTime(allReviewList, reviewYear)"
   ]
  },
  {
   "cell_type": "code",
   "execution_count": 74,
   "metadata": {},
   "outputs": [],
   "source": [
    "#Changing the data we are using to be from 2007 - 2012\n",
    "allReviewListSubset, reviewYearSubset = dfSplitter(dataDupRemove, 2007, 2012)"
   ]
  },
  {
   "cell_type": "code",
   "execution_count": 75,
   "metadata": {},
   "outputs": [
    {
     "data": {
      "image/png": "[encoded data removed]",
      "text/plain": [
       "<Figure size 432x288 with 1 Axes>"
      ]
     },
     "metadata": {
      "needs_background": "light"
     },
     "output_type": "display_data"
    }
   ],
   "source": [
    "reviewOverTime(allReviewListSubset, reviewYearSubset)"
   ]
  },
  {
   "cell_type": "code",
   "execution_count": 76,
   "metadata": {},
   "outputs": [
    {
     "data": {
      "image/png": "[encoded data removed]",
      "text/plain": [
       "<Figure size 432x288 with 1 Axes>"
      ]
     },
     "metadata": {
      "needs_background": "light"
     },
     "output_type": "display_data"
    }
   ],
   "source": [
    "#Looking at length of review over time\n",
    "def lenOverTime(allReviews, sources):\n",
    "    avgRevLen = []\n",
    "    for review in allReviews:\n",
    "        avgRevLen.append(np.mean(review[\"ReviewLength\"]))\n",
    "    plt.bar(sources, avgRevLen)\n",
    "    plt.title(\"Average Review Length Per Year Coffee\")\n",
    "    plt.xlabel(\"Year\")\n",
    "    plt.ylabel(\"Average Length of Review (Words)\")\n",
    "    plt.show()\n",
    "    \n",
    "lenOverTime(allReviewListSubset, reviewYearSubset)"
   ]
  },
  {
   "cell_type": "code",
   "execution_count": 77,
   "metadata": {},
   "outputs": [],
   "source": [
    "#Changing dataframe reviews to a string within a list\n",
    "def frameToString(dataList):\n",
    "    output = []\n",
    "    for data in dataList:\n",
    "        listed = data[\"Text\"].tolist()\n",
    "        output.append(' '.join(listed))\n",
    "    return(output)\n",
    "\n",
    "combinedReviews = frameToString(allReviewListSubset)"
   ]
  },
  {
   "cell_type": "code",
   "execution_count": 78,
   "metadata": {},
   "outputs": [],
   "source": [
    "#combinedReviews[0]"
   ]
  },
  {
   "cell_type": "code",
   "execution_count": 79,
   "metadata": {},
   "outputs": [],
   "source": [
    "#Removing html\n",
    "import re\n",
    "\n",
    "def removeHtml(reviewList):\n",
    "    #Removes html from strings\n",
    "    cleanOutput = []\n",
    "    for i in range(0,len(reviewList)):\n",
    "        cleanOutput.append(reviewList[i].replace('<br /><br />', ''))\n",
    "        cleanOutput[i] = re.sub('<[^<]+?>', '', cleanOutput[i])\n",
    "    return(cleanOutput)\n",
    "\n",
    "\n",
    "combinedReviewsHtml = removeHtml(combinedReviews)"
   ]
  },
  {
   "cell_type": "code",
   "execution_count": 80,
   "metadata": {},
   "outputs": [],
   "source": [
    "#combinedReviewsHtml[0]"
   ]
  },
  {
   "cell_type": "code",
   "execution_count": 81,
   "metadata": {},
   "outputs": [],
   "source": [
    "#Remove Punctuation\n",
    "import string\n",
    "\n",
    "def removePunc(reviewList):\n",
    "    punctuation = string.punctuation\n",
    "    allReviewsClean = []\n",
    "    for review in reviewList:\n",
    "        cleanText = ''\n",
    "        for letter in review:\n",
    "            if letter not in punctuation:\n",
    "                cleanText += letter\n",
    "            else:\n",
    "                if letter == \"'\":\n",
    "                    cleanText += ''\n",
    "                else:\n",
    "                    cleanText += ' '\n",
    "        allReviewsClean.append(cleanText)\n",
    "    return(allReviewsClean)\n",
    "\n",
    "combinedReviewsPunc = removePunc(combinedReviewsHtml)\n"
   ]
  },
  {
   "cell_type": "code",
   "execution_count": 82,
   "metadata": {},
   "outputs": [],
   "source": [
    "#allCoffeeReviewsPunc[0]"
   ]
  },
  {
   "cell_type": "code",
   "execution_count": 83,
   "metadata": {},
   "outputs": [],
   "source": [
    "#Tokenizing\n",
    "from nltk.tokenize import word_tokenize\n",
    "\n",
    "def makeToken(reviewList, noNum = True):\n",
    "    allReviewsToken = []\n",
    "    for review in reviewList:\n",
    "        allReviewsToken.append(word_tokenize(review))\n",
    "    if noNum == True:\n",
    "        cleanTokens = []\n",
    "        for reviewToken in allReviewsToken:\n",
    "            cleaned = []\n",
    "            for token in reviewToken:\n",
    "                if token.isalpha():\n",
    "                    cleaned.append(token)\n",
    "            cleanTokens.append(cleaned)\n",
    "        return(cleanTokens)\n",
    "    return(allReviewsToken)\n",
    "\n",
    "reviewTokens = makeToken(combinedReviewsPunc)"
   ]
  },
  {
   "cell_type": "code",
   "execution_count": 84,
   "metadata": {},
   "outputs": [],
   "source": [
    "#cleanCoffeeToken[0]"
   ]
  },
  {
   "cell_type": "code",
   "execution_count": 100,
   "metadata": {},
   "outputs": [],
   "source": [
    "#Removing stopwords\n",
    "from nltk.corpus import stopwords\n",
    "\n",
    "#Adding custom stopwords\n",
    "stopwords = stopwords.words('english')\n",
    "moreStop = [\"coffee\", \"aa\", \"aaa\", \"aaaa\", \"aaaa\", \n",
    "            \"aaaaa\", \"aaaaaa\", \"aaaaaaaaaaaaa\", \"aaaaaaaaaaaaaaaaaaaargh\", \"aaaaaaarrrrrggghhh\", \n",
    "            \"aaaaaahhhhh\", \"aaaaah\", \"im\", \"ive\"] #Some strange stopwords cluttering the dtm\n",
    "for word in moreStop:\n",
    "    stopwords.append(word)\n",
    "    \n",
    "#Removing Stopwords that should be kept\n",
    "stopwords.remove(\"not\")\n",
    "\n",
    "def removeStop(reviewList, stopwords):\n",
    "    swRemoved = []\n",
    "    for review in reviewList:\n",
    "        cleanToken = []\n",
    "        for token in review:\n",
    "            if token not in stopwords:\n",
    "                cleanToken.append(token)\n",
    "        swRemoved.append(cleanToken)\n",
    "    return(swRemoved)\n",
    "\n",
    "cleanTokens = removeStop(reviewTokens, stopwords)"
   ]
  },
  {
   "cell_type": "code",
   "execution_count": 101,
   "metadata": {},
   "outputs": [],
   "source": [
    "#Creating the dtm\n",
    "from sklearn.feature_extraction.text import CountVectorizer\n",
    "\n",
    "def dtmCreator(corpus, sources):\n",
    "    cv = CountVectorizer(stop_words = 'english', min_df = 0.2, ngram_range = (1,2))\n",
    "    corpus_cv = cv.fit_transform(corpus)\n",
    "    feats = cv.get_feature_names()\n",
    "    corpus_array = corpus_cv.toarray()\n",
    "    output  = pd.DataFrame(corpus_array, columns = feats, index = sources)\n",
    "    return(output)\n"
   ]
  },
  {
   "cell_type": "code",
   "execution_count": 102,
   "metadata": {},
   "outputs": [],
   "source": [
    "#Combining tokens back into one big string\n",
    "def tokenToString(dataList):\n",
    "    output = []\n",
    "    for data in dataList:\n",
    "        output.append(' '.join(data))\n",
    "    return(output)\n",
    "\n",
    "cleanTokensJoin = tokenToString(cleanTokens)"
   ]
  },
  {
   "cell_type": "code",
   "execution_count": 103,
   "metadata": {},
   "outputs": [],
   "source": [
    "#Generating term frequency plot\n",
    "def termFrequencyPlot(dtm, title):\n",
    "    mostCommon = dtm.sum(axis=0).sort_values(ascending=False)\n",
    "    fig, ax = plt.subplots(figsize = (15,10))\n",
    "    plt.xticks(rotation = 90)\n",
    "    plt.title(title)\n",
    "    plt.xlabel(\"Word\")\n",
    "    plt.ylabel(\"Count Across Reviews\")\n",
    "    plt.plot(mostCommon[0:50])"
   ]
  },
  {
   "cell_type": "code",
   "execution_count": 104,
   "metadata": {},
   "outputs": [
    {
     "data": {
      "image/png": "[encoded data removed]",
      "text/plain": [
       "<Figure size 1080x720 with 1 Axes>"
      ]
     },
     "metadata": {
      "needs_background": "light"
     },
     "output_type": "display_data"
    }
   ],
   "source": [
    "allTokenNoFilter = removeStop(reviewTokens, keyTerms)\n",
    "allTokenNoFilterJoin = tokenToString(allTokenNoFilter)\n",
    "dtmStopInclude = dtmCreator(allTokenNoFilterJoin, reviewYearSubset)\n",
    "termFrequencyPlot(dtmStopInclude,\"Term Frequency Plot With Stop Words\")"
   ]
  },
  {
   "cell_type": "code",
   "execution_count": 105,
   "metadata": {},
   "outputs": [
    {
     "data": {
      "text/html": [
       "<div>\n",
       "<style scoped>\n",
       "    .dataframe tbody tr th:only-of-type {\n",
       "        vertical-align: middle;\n",
       "    }\n",
       "\n",
       "    .dataframe tbody tr th {\n",
       "        vertical-align: top;\n",
       "    }\n",
       "\n",
       "    .dataframe thead th {\n",
       "        text-align: right;\n",
       "    }\n",
       "</style>\n",
       "<table border=\"1\" class=\"dataframe\">\n",
       "  <thead>\n",
       "    <tr style=\"text-align: right;\">\n",
       "      <th></th>\n",
       "      <th>aaah</th>\n",
       "      <th>aacute</th>\n",
       "      <th>aacute sico</th>\n",
       "      <th>ab</th>\n",
       "      <th>ab seen</th>\n",
       "      <th>aback</th>\n",
       "      <th>abandon</th>\n",
       "      <th>abandoned</th>\n",
       "      <th>abandoning</th>\n",
       "      <th>abdomen</th>\n",
       "      <th>...</th>\n",
       "      <th>zola</th>\n",
       "      <th>zolas</th>\n",
       "      <th>zombie</th>\n",
       "      <th>zone</th>\n",
       "      <th>zoom</th>\n",
       "      <th>zoomed</th>\n",
       "      <th>zsweet</th>\n",
       "      <th>zsweet really</th>\n",
       "      <th>zucchini</th>\n",
       "      <th>zucchini bread</th>\n",
       "    </tr>\n",
       "  </thead>\n",
       "  <tbody>\n",
       "    <tr>\n",
       "      <th>2007</th>\n",
       "      <td>0</td>\n",
       "      <td>0</td>\n",
       "      <td>0</td>\n",
       "      <td>0</td>\n",
       "      <td>0</td>\n",
       "      <td>0</td>\n",
       "      <td>0</td>\n",
       "      <td>1</td>\n",
       "      <td>0</td>\n",
       "      <td>0</td>\n",
       "      <td>...</td>\n",
       "      <td>0</td>\n",
       "      <td>0</td>\n",
       "      <td>0</td>\n",
       "      <td>0</td>\n",
       "      <td>0</td>\n",
       "      <td>0</td>\n",
       "      <td>0</td>\n",
       "      <td>0</td>\n",
       "      <td>0</td>\n",
       "      <td>0</td>\n",
       "    </tr>\n",
       "    <tr>\n",
       "      <th>2008</th>\n",
       "      <td>1</td>\n",
       "      <td>1</td>\n",
       "      <td>0</td>\n",
       "      <td>0</td>\n",
       "      <td>0</td>\n",
       "      <td>0</td>\n",
       "      <td>0</td>\n",
       "      <td>1</td>\n",
       "      <td>0</td>\n",
       "      <td>0</td>\n",
       "      <td>...</td>\n",
       "      <td>1</td>\n",
       "      <td>0</td>\n",
       "      <td>0</td>\n",
       "      <td>0</td>\n",
       "      <td>0</td>\n",
       "      <td>0</td>\n",
       "      <td>0</td>\n",
       "      <td>0</td>\n",
       "      <td>0</td>\n",
       "      <td>0</td>\n",
       "    </tr>\n",
       "    <tr>\n",
       "      <th>2009</th>\n",
       "      <td>0</td>\n",
       "      <td>0</td>\n",
       "      <td>0</td>\n",
       "      <td>0</td>\n",
       "      <td>0</td>\n",
       "      <td>1</td>\n",
       "      <td>0</td>\n",
       "      <td>0</td>\n",
       "      <td>0</td>\n",
       "      <td>0</td>\n",
       "      <td>...</td>\n",
       "      <td>12</td>\n",
       "      <td>0</td>\n",
       "      <td>1</td>\n",
       "      <td>0</td>\n",
       "      <td>0</td>\n",
       "      <td>1</td>\n",
       "      <td>0</td>\n",
       "      <td>0</td>\n",
       "      <td>1</td>\n",
       "      <td>0</td>\n",
       "    </tr>\n",
       "    <tr>\n",
       "      <th>2010</th>\n",
       "      <td>0</td>\n",
       "      <td>3</td>\n",
       "      <td>2</td>\n",
       "      <td>0</td>\n",
       "      <td>0</td>\n",
       "      <td>1</td>\n",
       "      <td>0</td>\n",
       "      <td>2</td>\n",
       "      <td>0</td>\n",
       "      <td>0</td>\n",
       "      <td>...</td>\n",
       "      <td>0</td>\n",
       "      <td>0</td>\n",
       "      <td>0</td>\n",
       "      <td>4</td>\n",
       "      <td>1</td>\n",
       "      <td>0</td>\n",
       "      <td>4</td>\n",
       "      <td>1</td>\n",
       "      <td>0</td>\n",
       "      <td>0</td>\n",
       "    </tr>\n",
       "    <tr>\n",
       "      <th>2011</th>\n",
       "      <td>0</td>\n",
       "      <td>1</td>\n",
       "      <td>1</td>\n",
       "      <td>1</td>\n",
       "      <td>1</td>\n",
       "      <td>4</td>\n",
       "      <td>2</td>\n",
       "      <td>1</td>\n",
       "      <td>1</td>\n",
       "      <td>1</td>\n",
       "      <td>...</td>\n",
       "      <td>3</td>\n",
       "      <td>1</td>\n",
       "      <td>2</td>\n",
       "      <td>2</td>\n",
       "      <td>1</td>\n",
       "      <td>0</td>\n",
       "      <td>1</td>\n",
       "      <td>0</td>\n",
       "      <td>1</td>\n",
       "      <td>1</td>\n",
       "    </tr>\n",
       "    <tr>\n",
       "      <th>2012</th>\n",
       "      <td>2</td>\n",
       "      <td>4</td>\n",
       "      <td>0</td>\n",
       "      <td>1</td>\n",
       "      <td>1</td>\n",
       "      <td>4</td>\n",
       "      <td>2</td>\n",
       "      <td>4</td>\n",
       "      <td>2</td>\n",
       "      <td>1</td>\n",
       "      <td>...</td>\n",
       "      <td>0</td>\n",
       "      <td>1</td>\n",
       "      <td>4</td>\n",
       "      <td>5</td>\n",
       "      <td>0</td>\n",
       "      <td>2</td>\n",
       "      <td>16</td>\n",
       "      <td>1</td>\n",
       "      <td>2</td>\n",
       "      <td>2</td>\n",
       "    </tr>\n",
       "  </tbody>\n",
       "</table>\n",
       "<p>6 rows × 161394 columns</p>\n",
       "</div>"
      ],
      "text/plain": [
       "      aaah  aacute  aacute sico  ab  ab seen  aback  abandon  abandoned  \\\n",
       "2007     0       0            0   0        0      0        0          1   \n",
       "2008     1       1            0   0        0      0        0          1   \n",
       "2009     0       0            0   0        0      1        0          0   \n",
       "2010     0       3            2   0        0      1        0          2   \n",
       "2011     0       1            1   1        1      4        2          1   \n",
       "2012     2       4            0   1        1      4        2          4   \n",
       "\n",
       "      abandoning  abdomen  ...  zola  zolas  zombie  zone  zoom  zoomed  \\\n",
       "2007           0        0  ...     0      0       0     0     0       0   \n",
       "2008           0        0  ...     1      0       0     0     0       0   \n",
       "2009           0        0  ...    12      0       1     0     0       1   \n",
       "2010           0        0  ...     0      0       0     4     1       0   \n",
       "2011           1        1  ...     3      1       2     2     1       0   \n",
       "2012           2        1  ...     0      1       4     5     0       2   \n",
       "\n",
       "      zsweet  zsweet really  zucchini  zucchini bread  \n",
       "2007       0              0         0               0  \n",
       "2008       0              0         0               0  \n",
       "2009       0              0         1               0  \n",
       "2010       4              1         0               0  \n",
       "2011       1              0         1               1  \n",
       "2012      16              1         2               2  \n",
       "\n",
       "[6 rows x 161394 columns]"
      ]
     },
     "execution_count": 105,
     "metadata": {},
     "output_type": "execute_result"
    }
   ],
   "source": [
    "dtm = dtmCreator(cleanTokensJoin, reviewYearSubset)\n",
    "dtm"
   ]
  },
  {
   "cell_type": "code",
   "execution_count": 106,
   "metadata": {},
   "outputs": [
    {
     "data": {
      "image/png": "[encoded data removed]",
      "text/plain": [
       "<Figure size 1080x720 with 1 Axes>"
      ]
     },
     "metadata": {
      "needs_background": "light"
     },
     "output_type": "display_data"
    }
   ],
   "source": [
    "termFrequencyPlot(dtm,\"Term Frequency Plot Without Stop Words\")"
   ]
  },
  {
   "cell_type": "code",
   "execution_count": 107,
   "metadata": {},
   "outputs": [],
   "source": [
    "#Looking at counts of words\n",
    "#counts = dtm.sum(axis=0).sort_values(ascending=False)\n",
    "#counts[0:50]"
   ]
  },
  {
   "cell_type": "code",
   "execution_count": 108,
   "metadata": {},
   "outputs": [
    {
     "name": "stdout",
     "output_type": "stream",
     "text": [
      "Displaying 25 of 111 matches:\n",
      "aking tea tastes decent enough not starbucks good enough sugar cream fast easy \n",
      "rchase continue order thanx forget starbucks peets anything else real deal like\n",
      "mind review written someone thinks starbucks far far overrated bitter burnt yub\n",
      "ught wasnt good yuban often wonder starbucks whose find undrinkable son says ac\n",
      "mmend check u roast em needs folks starbucks not exaggerating say french roast \n",
      " good wouldnt recommend particular starbucks variety like black unless wan na s\n",
      "ison favorite brands tullys keurig starbucks non keurig find smooth full flavor\n",
      "ittle weak not distnctive stopping starbucks way work better ones people coffee\n",
      "e buying store bought coffees even starbucks thought starbucks boy wrong using \n",
      "ght coffees even starbucks thought starbucks boy wrong using dont put sugar usu\n",
      "s definitely lasts longer compared starbucks try never settle anything less rec\n",
      "urant hooked ever since ever drink starbucks caribou nothing compared one sip s\n",
      "o find american coffeeshops buying starbucks syrup long enjoyed thought might s\n",
      "cream half n half tastes best find starbucks little bit strong italian roast wo\n",
      "btle yet intense purchased product starbucks raised prices become frozen green \n",
      " stores west coast yes decaf beats starbucks hands decaf smooth never bitter no\n",
      "onths back mr bitter many trips dd starbucks whats wrong ill tell whats wrong k\n",
      " every cup masterpiece shunning dd starbucks wallet thanks please give try chan\n",
      "s really rich flavor easily rivals starbucks probably better dont intimidated l\n",
      "sfying enjoy full flavored without starbucks bitterness right balance full flav\n",
      "rice shot sugarfree hazelnut latte starbucks instead getting several lattes day\n",
      "r experienced strong average taste starbucks category see tried many different \n",
      "ven difference stark however blame starbucks giving taste full french roasted b\n",
      "youre looking high octane kick get starbucks may way go however dont surprised \n",
      "pods great think theyre comparable starbucks opinion good thing first confess e\n"
     ]
    }
   ],
   "source": [
    "#KWIC plots\n",
    "import nltk\n",
    "from nltk.text import Text\n",
    "tokenizer = nltk.tokenize.WhitespaceTokenizer()\n",
    "t = Text(tokenizer.tokenize(cleanTokensJoin[0]))\n",
    "t.concordance('starbucks')"
   ]
  },
  {
   "cell_type": "code",
   "execution_count": 109,
   "metadata": {},
   "outputs": [
    {
     "data": {
      "image/png": "[encoded data removed]",
      "text/plain": [
       "<Figure size 1080x720 with 1 Axes>"
      ]
     },
     "metadata": {
      "needs_background": "light"
     },
     "output_type": "display_data"
    }
   ],
   "source": [
    "from sklearn.feature_extraction.text import TfidfVectorizer\n",
    "from sklearn.metrics.pairwise import cosine_similarity\n",
    "\n",
    "#TF-IDF Scores\n",
    "def tfIdfCreator(corpus,sources):\n",
    "    tfidf = TfidfVectorizer(stop_words = 'english', min_df = 0.3)\n",
    "    corpus_tf = tfidf.fit_transform(corpus)\n",
    "    feats = tfidf.get_feature_names()\n",
    "    corpus_array = corpus_tf.toarray()\n",
    "    dfTf = pd.DataFrame(corpus_array, columns = feats, index = sources)\n",
    "    return(dfTf)\n",
    "\n",
    "tfIdf = tfIdfCreator(cleanTokensJoin, reviewYearSubset)\n",
    "termFrequencyPlot(tfIdf,\"TF-IDF Score Plot Without Stop Words Coffee\")"
   ]
  },
  {
   "cell_type": "code",
   "execution_count": 110,
   "metadata": {},
   "outputs": [],
   "source": [
    "#counts = tfIdf.sum(axis=0).sort_values(ascending=False)\n",
    "#counts[0:15]"
   ]
  },
  {
   "cell_type": "code",
   "execution_count": 116,
   "metadata": {},
   "outputs": [
    {
     "data": {
      "text/html": [
       "<div>\n",
       "<style scoped>\n",
       "    .dataframe tbody tr th:only-of-type {\n",
       "        vertical-align: middle;\n",
       "    }\n",
       "\n",
       "    .dataframe tbody tr th {\n",
       "        vertical-align: top;\n",
       "    }\n",
       "\n",
       "    .dataframe thead th {\n",
       "        text-align: right;\n",
       "    }\n",
       "</style>\n",
       "<table border=\"1\" class=\"dataframe\">\n",
       "  <thead>\n",
       "    <tr style=\"text-align: right;\">\n",
       "      <th></th>\n",
       "      <th>2007</th>\n",
       "      <th>2008</th>\n",
       "      <th>2009</th>\n",
       "      <th>2010</th>\n",
       "      <th>2011</th>\n",
       "      <th>2012</th>\n",
       "    </tr>\n",
       "  </thead>\n",
       "  <tbody>\n",
       "    <tr>\n",
       "      <th>2007</th>\n",
       "      <td>1.000000</td>\n",
       "      <td>0.978952</td>\n",
       "      <td>0.978354</td>\n",
       "      <td>0.951179</td>\n",
       "      <td>0.959522</td>\n",
       "      <td>0.953982</td>\n",
       "    </tr>\n",
       "    <tr>\n",
       "      <th>2008</th>\n",
       "      <td>0.978952</td>\n",
       "      <td>1.000000</td>\n",
       "      <td>0.986328</td>\n",
       "      <td>0.957314</td>\n",
       "      <td>0.969037</td>\n",
       "      <td>0.963763</td>\n",
       "    </tr>\n",
       "    <tr>\n",
       "      <th>2009</th>\n",
       "      <td>0.978354</td>\n",
       "      <td>0.986328</td>\n",
       "      <td>1.000000</td>\n",
       "      <td>0.965624</td>\n",
       "      <td>0.976488</td>\n",
       "      <td>0.969652</td>\n",
       "    </tr>\n",
       "    <tr>\n",
       "      <th>2010</th>\n",
       "      <td>0.951179</td>\n",
       "      <td>0.957314</td>\n",
       "      <td>0.965624</td>\n",
       "      <td>1.000000</td>\n",
       "      <td>0.984286</td>\n",
       "      <td>0.976978</td>\n",
       "    </tr>\n",
       "    <tr>\n",
       "      <th>2011</th>\n",
       "      <td>0.959522</td>\n",
       "      <td>0.969037</td>\n",
       "      <td>0.976488</td>\n",
       "      <td>0.984286</td>\n",
       "      <td>1.000000</td>\n",
       "      <td>0.990708</td>\n",
       "    </tr>\n",
       "    <tr>\n",
       "      <th>2012</th>\n",
       "      <td>0.953982</td>\n",
       "      <td>0.963763</td>\n",
       "      <td>0.969652</td>\n",
       "      <td>0.976978</td>\n",
       "      <td>0.990708</td>\n",
       "      <td>1.000000</td>\n",
       "    </tr>\n",
       "  </tbody>\n",
       "</table>\n",
       "</div>"
      ],
      "text/plain": [
       "          2007      2008      2009      2010      2011      2012\n",
       "2007  1.000000  0.978952  0.978354  0.951179  0.959522  0.953982\n",
       "2008  0.978952  1.000000  0.986328  0.957314  0.969037  0.963763\n",
       "2009  0.978354  0.986328  1.000000  0.965624  0.976488  0.969652\n",
       "2010  0.951179  0.957314  0.965624  1.000000  0.984286  0.976978\n",
       "2011  0.959522  0.969037  0.976488  0.984286  1.000000  0.990708\n",
       "2012  0.953982  0.963763  0.969652  0.976978  0.990708  1.000000"
      ]
     },
     "execution_count": 116,
     "metadata": {},
     "output_type": "execute_result"
    }
   ],
   "source": [
    "from sklearn.metrics.pairwise import cosine_similarity\n",
    "from sklearn.feature_extraction.text import CountVectorizer\n",
    "#Cosine Similarity\n",
    "def cosineSim(corpus, sources):\n",
    "    cv = CountVectorizer(stop_words = 'english', min_df = 0.2)\n",
    "    corpus_cv = cv.fit_transform(corpus)\n",
    "    pairwise_sim = cosine_similarity(corpus_cv)\n",
    "    output = pd.DataFrame(pairwise_sim, columns = sources, index = sources)\n",
    "    return(output)\n",
    "\n",
    "cosineSim(cleanTokensJoin, reviewYearSubset)"
   ]
  },
  {
   "cell_type": "code",
   "execution_count": 112,
   "metadata": {
    "scrolled": true
   },
   "outputs": [
    {
     "name": "stdout",
     "output_type": "stream",
     "text": [
      "2007 ttr: 0.12557379110859587\n",
      "2008 ttr: 0.09821164646763228\n",
      "2009 ttr: 0.06940246672548762\n",
      "2010 ttr: 0.04613433873501928\n",
      "2011 ttr: 0.03589924918902564\n",
      "2012 ttr: 0.031023668115734978\n",
      "2007 R: 27.428317165506122\n",
      "2008 R: 27.98463272821174\n",
      "2009 R: 27.74423829288494\n",
      "2010 R: 26.361364615011787\n",
      "2011 R: 27.066510270081846\n",
      "2012 R: 26.596440677407816\n"
     ]
    }
   ],
   "source": [
    "from collections import Counter\n",
    "\n",
    "# unique over total, lower is less diverse\n",
    "def TTR(tokenized_document):\n",
    "    total_types = Counter(tokenized_document)\n",
    "    total_tokens = len(tokenized_document)\n",
    "    TTR = len(total_types) / total_tokens  \n",
    "    return TTR\n",
    "\n",
    "def R(tokenized_document):\n",
    "    total_types = Counter(tokenized_document)\n",
    "    total_tokens = len(tokenized_document)\n",
    "    R = len(total_types) / np.sqrt(total_tokens) \n",
    "    return R\n",
    "\n",
    "def diversityPrint(tokenized_document, source, metric):\n",
    "    output = []\n",
    "    if metric == 'ttr':\n",
    "        for i in range(0,len(tokenized_document)): \n",
    "            print(str(source[i]) + ' ttr: ' + str(TTR(tokenized_document[i])))\n",
    "            output.append(TTR(tokenized_document[i]))\n",
    "    elif metric == 'r':\n",
    "        for i in range(0,len(tokenized_document)): \n",
    "            print(str(source[i]) + ' R: ' + str(R(tokenized_document[i])))\n",
    "            output.append(R(tokenized_document[i]))\n",
    "    return output\n",
    "\n",
    "\n",
    "\n",
    "#for i in range(0,len(cleanTokens)): \n",
    "#    print(str(reviewYearSubset[i]) + ' ttr: ' + str(TTR(cleanTokens[i])))\n",
    "\n",
    "\n",
    "\n",
    "ttr = diversityPrint(cleanTokens, reviewYearSubset, \"ttr\")\n",
    "r = diversityPrint(cleanTokens, reviewYearSubset, \"r\")"
   ]
  },
  {
   "cell_type": "code",
   "execution_count": 5,
   "metadata": {
    "scrolled": true
   },
   "outputs": [],
   "source": [
    "#import plotly.graph_objects as go\n",
    "#Exporting table of ttr and r scores\n",
    "#fig = go.Figure(data=[go.Table(header=dict(values=['Lexical Diversity Scores Coffee','TTR', 'R']), cells=dict(values=[reviewYearSubset, ttr, r]))])\n",
    "#fig.show()"
   ]
  },
  {
   "cell_type": "code",
   "execution_count": 114,
   "metadata": {},
   "outputs": [],
   "source": [
    "#Importing and exporting functions\n",
    "import pickle\n",
    "\n",
    "def picklerOut(data,filename):\n",
    "    outfile = open(filename,'wb')\n",
    "    pickle.dump(data, outfile)\n",
    "    outfile.close()\n",
    "    \n",
    "def picklerIn(filename):\n",
    "    infile = open(filename,'rb')\n",
    "    data = pickle.load(infile)\n",
    "    infile.close()\n",
    "    return(data)"
   ]
  },
  {
   "cell_type": "code",
   "execution_count": null,
   "metadata": {},
   "outputs": [],
   "source": []
  }
 ],
 "metadata": {
  "kernelspec": {
   "display_name": "Python 3",
   "language": "python",
   "name": "python3"
  },
  "language_info": {
   "codemirror_mode": {
    "name": "ipython",
    "version": 3
   },
   "file_extension": ".py",
   "mimetype": "text/x-python",
   "name": "python",
   "nbconvert_exporter": "python",
   "pygments_lexer": "ipython3",
   "version": "3.7.6"
  }
 },
 "nbformat": 4,
 "nbformat_minor": 4
}
